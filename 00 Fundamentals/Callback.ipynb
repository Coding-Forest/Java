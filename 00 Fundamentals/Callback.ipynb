{
  "nbformat": 4,
  "nbformat_minor": 0,
  "metadata": {
    "colab": {
      "name": "Callback (java).ipynb",
      "provenance": [],
      "collapsed_sections": []
    },
    "kernelspec": {
      "name": "python3",
      "display_name": "Python 3"
    },
    "language_info": {
      "name": "python"
    }
  },
  "cells": [
    {
      "cell_type": "markdown",
      "metadata": {
        "id": "yYL8sij4CcS_"
      },
      "source": [
        "# 1 Callback\n",
        "\n",
        "Asynchronous programming\n",
        "\n",
        "- `Callback` enforces the order of operations.\n",
        "  - Some tasks must happen prior to some other specific tasks. \n",
        "    - Updating a DB (task A) and displaying the updated DB (task B).\n",
        "    - Task B must happen after task A. "
      ]
    },
    {
      "cell_type": "markdown",
      "metadata": {
        "id": "Goglndhi2jt2"
      },
      "source": [
        "## `callback`"
      ]
    },
    {
      "cell_type": "code",
      "metadata": {
        "id": "gTIOblTE2ivV"
      },
      "source": [
        "interface onEventListener {\n",
        "    # callback is an interface used to ensure the order of execution.\n",
        "    void interfaceCallback();\n",
        "}"
      ],
      "execution_count": null,
      "outputs": []
    },
    {
      "cell_type": "code",
      "metadata": {
        "id": "i4i-sHKT2ti-"
      },
      "source": [
        "# class A takes the interface from above and defines the details of the callback method inside itself. \n",
        "class A implements onEventListener {\n",
        "\n",
        "     @Override\n",
        "    public void interfaceCallback() {\n",
        "        System.out.println(\"Callback in class A executed\");\n",
        "        B.callbackCount += 1;\n",
        "        System.out.println(String.format(\"interface ended. Callback count: %s \\n\", B.callbackCount));\n",
        "    }\n",
        "}"
      ],
      "execution_count": null,
      "outputs": []
    },
    {
      "cell_type": "markdown",
      "metadata": {
        "id": "9ZZpP128C_Ur"
      },
      "source": [
        "## `static` keyword for globality\n",
        "- If you want to access and modify a variable in specific class regardless from any class in the package, use the access modifier `static`.\n",
        "  - Access sytax: `className.globalVarible`"
      ]
    },
    {
      "cell_type": "code",
      "metadata": {
        "id": "BZrsndvcDDuD"
      },
      "source": [
        "public class B {\n",
        "\n",
        "    public static int threadCount = 0;\n",
        "    public static int callbackCount = 0;\n",
        "\n",
        "    ..."
      ],
      "execution_count": null,
      "outputs": []
    },
    {
      "cell_type": "code",
      "metadata": {
        "id": "9WzKPVRS1sC5"
      },
      "source": [
        "class A implements onEventListener {\n",
        "\n",
        "     @Override\n",
        "    public void interfaceCallback() {\n",
        "        System.out.println(\"Callback in class A executed\");\n",
        "        B.callbackCount += 1;   # updates the static variable, which belongs to class B, inside class A.\n",
        "        System.out.println(String.format(\"interface ended. Callback count: %s \\n\", B.callbackCount));\n",
        "    }\n",
        "}"
      ],
      "execution_count": null,
      "outputs": []
    },
    {
      "cell_type": "markdown",
      "metadata": {
        "id": "tNC0WmUQDC8a"
      },
      "source": [
        "## `String.format(\"string %s\", variable)`\n",
        "Java equivalent for Python `f\"string {variable}\"`"
      ]
    },
    {
      "cell_type": "code",
      "metadata": {
        "id": "D_2ZCJ6pBo0l"
      },
      "source": [
        "int threadCount = 0;\n",
        "int i;\n",
        "for (i=0, i<5; i++) {\n",
        "    threadCount += 1;\n",
        "    String.format(\"Thread count: %x\", threadCount)\n",
        "}"
      ],
      "execution_count": null,
      "outputs": []
    },
    {
      "cell_type": "markdown",
      "metadata": {
        "id": "YUKWkgi9Chks"
      },
      "source": [
        "### **Notes and Reference**\n",
        "- GeeksforGeeks (2019) Asynchronous and Synchronous Callbacks in Java https://www.geeksforgeeks.org/asynchronous-synchronous-callbacks-java/"
      ]
    }
  ]
}
